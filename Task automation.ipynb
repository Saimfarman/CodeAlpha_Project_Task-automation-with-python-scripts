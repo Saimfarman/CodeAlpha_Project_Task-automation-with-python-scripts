{
 "cells": [
  {
   "cell_type": "code",
   "execution_count": 17,
   "id": "3740eec8-2826-4ee5-9584-3e8c6fde9542",
   "metadata": {},
   "outputs": [
    {
     "name": "stdin",
     "output_type": "stream",
     "text": [
      "Enter the path of the directory to organize:  Thispc\\Documents\\Python Scripts\n"
     ]
    },
    {
     "name": "stdout",
     "output_type": "stream",
     "text": [
      "The directory 'Thispc\\Documents\\Python Scripts' does not exist.\n"
     ]
    }
   ],
   "source": [
    "import os\n",
    "import shutil\n",
    "\n",
    "def organize_files(directory):\n",
    "    # Ensure the directory exists\n",
    "    if not os.path.isdir(directory):\n",
    "        print(f\"The directory '{directory}' does not exist.\")\n",
    "        return\n",
    "\n",
    "    # List all files and directories in the given directory\n",
    "    items = os.listdir(directory)\n",
    "\n",
    "    # Create a set to keep track of file extensions\n",
    "    extensions = set()\n",
    "    \n",
    "    # Identify and organize files\n",
    "    for item in items:\n",
    "        item_path = os.path.join(directory, item)\n",
    "        \n",
    "        if os.path.isfile(item_path):\n",
    "            _, ext = os.path.splitext(item)\n",
    "            ext = ext.lower()  # Normalize extension to lowercase\n",
    "            \n",
    "            if ext:\n",
    "                extensions.add(ext)  # Collect file extensions\n",
    "\n",
    "    # Create directories based on file extensions\n",
    "    for ext in extensions:\n",
    "        sub_dir = os.path.join(directory, ext[1:] + \"_files\")  # Remove dot from extension\n",
    "        if not os.path.exists(sub_dir):\n",
    "            os.makedirs(sub_dir)\n",
    "    \n",
    "    # Move files into respective directories\n",
    "    for item in items:\n",
    "        item_path = os.path.join(directory, item)\n",
    "        \n",
    "        if os.path.isfile(item_path):\n",
    "            _, ext = os.path.splitext(item)\n",
    "            ext = ext.lower()\n",
    "            \n",
    "            if ext:\n",
    "                target_dir = os.path.join(directory, ext[1:] + \"_files\")\n",
    "                shutil.move(item_path, os.path.join(target_dir, item))\n",
    "                print(f\"Moved {item} to {target_dir}\")\n",
    "\n",
    "if __name__ == \"__main__\":\n",
    "    dir_to_organize = input(\"Enter the path of the directory to organize: \")\n",
    "    organize_files(dir_to_organize)\n"
   ]
  },
  {
   "cell_type": "code",
   "execution_count": null,
   "id": "55e34767-d516-430e-a122-bfe8b7841258",
   "metadata": {},
   "outputs": [],
   "source": []
  }
 ],
 "metadata": {
  "kernelspec": {
   "display_name": "Python 3 (ipykernel)",
   "language": "python",
   "name": "python3"
  },
  "language_info": {
   "codemirror_mode": {
    "name": "ipython",
    "version": 3
   },
   "file_extension": ".py",
   "mimetype": "text/x-python",
   "name": "python",
   "nbconvert_exporter": "python",
   "pygments_lexer": "ipython3",
   "version": "3.12.4"
  }
 },
 "nbformat": 4,
 "nbformat_minor": 5
}
